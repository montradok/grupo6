{
 "cells": [
  {
   "cell_type": "code",
   "execution_count": null,
   "metadata": {
    "id": "hD72emMP6bCn",
    "outputId": "56d00be6-0aae-4b78-8aba-147ec02da389"
   },
   "outputs": [
    {
     "ename": "Exception",
     "evalue": "File `'../../../common/0_notebooks_base_setup.py'` not found.",
     "output_type": "error",
     "traceback": [
      "\u001b[1;31m---------------------------------------------------------------------------\u001b[0m",
      "\u001b[1;31mModuleNotFoundError\u001b[0m                       Traceback (most recent call last)",
      "\u001b[1;32m<ipython-input-77-b7b4b561a62a>\u001b[0m in \u001b[0;36m<module>\u001b[1;34m\u001b[0m\n\u001b[0;32m      3\u001b[0m     \u001b[1;31m# settings colab:\u001b[0m\u001b[1;33m\u001b[0m\u001b[1;33m\u001b[0m\u001b[1;33m\u001b[0m\u001b[0m\n\u001b[1;32m----> 4\u001b[1;33m     \u001b[1;32mimport\u001b[0m \u001b[0mgoogle\u001b[0m\u001b[1;33m.\u001b[0m\u001b[0mcolab\u001b[0m\u001b[1;33m\u001b[0m\u001b[1;33m\u001b[0m\u001b[0m\n\u001b[0m\u001b[0;32m      5\u001b[0m \u001b[1;33m\u001b[0m\u001b[0m\n",
      "\u001b[1;31mModuleNotFoundError\u001b[0m: No module named 'google'",
      "\nDuring handling of the above exception, another exception occurred:\n",
      "\u001b[1;31mOSError\u001b[0m                                   Traceback (most recent call last)",
      "\u001b[1;32m~\\anaconda3\\envs\\dhdsblend\\lib\\site-packages\\IPython\\core\\magics\\execution.py\u001b[0m in \u001b[0;36mrun\u001b[1;34m(self, parameter_s, runner, file_finder)\u001b[0m\n\u001b[0;32m    702\u001b[0m             \u001b[0mfpath\u001b[0m \u001b[1;33m=\u001b[0m \u001b[0marg_lst\u001b[0m\u001b[1;33m[\u001b[0m\u001b[1;36m0\u001b[0m\u001b[1;33m]\u001b[0m\u001b[1;33m\u001b[0m\u001b[1;33m\u001b[0m\u001b[0m\n\u001b[1;32m--> 703\u001b[1;33m             \u001b[0mfilename\u001b[0m \u001b[1;33m=\u001b[0m \u001b[0mfile_finder\u001b[0m\u001b[1;33m(\u001b[0m\u001b[0mfpath\u001b[0m\u001b[1;33m)\u001b[0m\u001b[1;33m\u001b[0m\u001b[1;33m\u001b[0m\u001b[0m\n\u001b[0m\u001b[0;32m    704\u001b[0m         \u001b[1;32mexcept\u001b[0m \u001b[0mIndexError\u001b[0m\u001b[1;33m:\u001b[0m\u001b[1;33m\u001b[0m\u001b[1;33m\u001b[0m\u001b[0m\n",
      "\u001b[1;32m~\\anaconda3\\envs\\dhdsblend\\lib\\site-packages\\IPython\\utils\\path.py\u001b[0m in \u001b[0;36mget_py_filename\u001b[1;34m(name, force_win32)\u001b[0m\n\u001b[0;32m    108\u001b[0m     \u001b[1;32melse\u001b[0m\u001b[1;33m:\u001b[0m\u001b[1;33m\u001b[0m\u001b[1;33m\u001b[0m\u001b[0m\n\u001b[1;32m--> 109\u001b[1;33m         \u001b[1;32mraise\u001b[0m \u001b[0mIOError\u001b[0m\u001b[1;33m(\u001b[0m\u001b[1;34m'File `%r` not found.'\u001b[0m \u001b[1;33m%\u001b[0m \u001b[0mname\u001b[0m\u001b[1;33m)\u001b[0m\u001b[1;33m\u001b[0m\u001b[1;33m\u001b[0m\u001b[0m\n\u001b[0m\u001b[0;32m    110\u001b[0m \u001b[1;33m\u001b[0m\u001b[0m\n",
      "\u001b[1;31mOSError\u001b[0m: File `'../../../common/0_notebooks_base_setup.py'` not found.",
      "\nDuring handling of the above exception, another exception occurred:\n",
      "\u001b[1;31mException\u001b[0m                                 Traceback (most recent call last)",
      "\u001b[1;32m<ipython-input-77-b7b4b561a62a>\u001b[0m in \u001b[0;36m<module>\u001b[1;34m\u001b[0m\n\u001b[0;32m      9\u001b[0m \u001b[1;32mexcept\u001b[0m \u001b[0mModuleNotFoundError\u001b[0m\u001b[1;33m:\u001b[0m\u001b[1;33m\u001b[0m\u001b[1;33m\u001b[0m\u001b[0m\n\u001b[0;32m     10\u001b[0m     \u001b[1;31m# settings local:\u001b[0m\u001b[1;33m\u001b[0m\u001b[1;33m\u001b[0m\u001b[1;33m\u001b[0m\u001b[0m\n\u001b[1;32m---> 11\u001b[1;33m     \u001b[0mget_ipython\u001b[0m\u001b[1;33m(\u001b[0m\u001b[1;33m)\u001b[0m\u001b[1;33m.\u001b[0m\u001b[0mrun_line_magic\u001b[0m\u001b[1;33m(\u001b[0m\u001b[1;34m'run'\u001b[0m\u001b[1;33m,\u001b[0m \u001b[1;34m'\"../../../common/0_notebooks_base_setup.py\"'\u001b[0m\u001b[1;33m)\u001b[0m\u001b[1;33m\u001b[0m\u001b[1;33m\u001b[0m\u001b[0m\n\u001b[0m",
      "\u001b[1;32m~\\anaconda3\\envs\\dhdsblend\\lib\\site-packages\\IPython\\core\\interactiveshell.py\u001b[0m in \u001b[0;36mrun_line_magic\u001b[1;34m(self, magic_name, line, _stack_depth)\u001b[0m\n\u001b[0;32m   2325\u001b[0m                 \u001b[0mkwargs\u001b[0m\u001b[1;33m[\u001b[0m\u001b[1;34m'local_ns'\u001b[0m\u001b[1;33m]\u001b[0m \u001b[1;33m=\u001b[0m \u001b[0mself\u001b[0m\u001b[1;33m.\u001b[0m\u001b[0mget_local_scope\u001b[0m\u001b[1;33m(\u001b[0m\u001b[0mstack_depth\u001b[0m\u001b[1;33m)\u001b[0m\u001b[1;33m\u001b[0m\u001b[1;33m\u001b[0m\u001b[0m\n\u001b[0;32m   2326\u001b[0m             \u001b[1;32mwith\u001b[0m \u001b[0mself\u001b[0m\u001b[1;33m.\u001b[0m\u001b[0mbuiltin_trap\u001b[0m\u001b[1;33m:\u001b[0m\u001b[1;33m\u001b[0m\u001b[1;33m\u001b[0m\u001b[0m\n\u001b[1;32m-> 2327\u001b[1;33m                 \u001b[0mresult\u001b[0m \u001b[1;33m=\u001b[0m \u001b[0mfn\u001b[0m\u001b[1;33m(\u001b[0m\u001b[1;33m*\u001b[0m\u001b[0margs\u001b[0m\u001b[1;33m,\u001b[0m \u001b[1;33m**\u001b[0m\u001b[0mkwargs\u001b[0m\u001b[1;33m)\u001b[0m\u001b[1;33m\u001b[0m\u001b[1;33m\u001b[0m\u001b[0m\n\u001b[0m\u001b[0;32m   2328\u001b[0m             \u001b[1;32mreturn\u001b[0m \u001b[0mresult\u001b[0m\u001b[1;33m\u001b[0m\u001b[1;33m\u001b[0m\u001b[0m\n\u001b[0;32m   2329\u001b[0m \u001b[1;33m\u001b[0m\u001b[0m\n",
      "\u001b[1;32m<decorator-gen-53>\u001b[0m in \u001b[0;36mrun\u001b[1;34m(self, parameter_s, runner, file_finder)\u001b[0m\n",
      "\u001b[1;32m~\\anaconda3\\envs\\dhdsblend\\lib\\site-packages\\IPython\\core\\magic.py\u001b[0m in \u001b[0;36m<lambda>\u001b[1;34m(f, *a, **k)\u001b[0m\n\u001b[0;32m    185\u001b[0m     \u001b[1;31m# but it's overkill for just that one bit of state.\u001b[0m\u001b[1;33m\u001b[0m\u001b[1;33m\u001b[0m\u001b[1;33m\u001b[0m\u001b[0m\n\u001b[0;32m    186\u001b[0m     \u001b[1;32mdef\u001b[0m \u001b[0mmagic_deco\u001b[0m\u001b[1;33m(\u001b[0m\u001b[0marg\u001b[0m\u001b[1;33m)\u001b[0m\u001b[1;33m:\u001b[0m\u001b[1;33m\u001b[0m\u001b[1;33m\u001b[0m\u001b[0m\n\u001b[1;32m--> 187\u001b[1;33m         \u001b[0mcall\u001b[0m \u001b[1;33m=\u001b[0m \u001b[1;32mlambda\u001b[0m \u001b[0mf\u001b[0m\u001b[1;33m,\u001b[0m \u001b[1;33m*\u001b[0m\u001b[0ma\u001b[0m\u001b[1;33m,\u001b[0m \u001b[1;33m**\u001b[0m\u001b[0mk\u001b[0m\u001b[1;33m:\u001b[0m \u001b[0mf\u001b[0m\u001b[1;33m(\u001b[0m\u001b[1;33m*\u001b[0m\u001b[0ma\u001b[0m\u001b[1;33m,\u001b[0m \u001b[1;33m**\u001b[0m\u001b[0mk\u001b[0m\u001b[1;33m)\u001b[0m\u001b[1;33m\u001b[0m\u001b[1;33m\u001b[0m\u001b[0m\n\u001b[0m\u001b[0;32m    188\u001b[0m \u001b[1;33m\u001b[0m\u001b[0m\n\u001b[0;32m    189\u001b[0m         \u001b[1;32mif\u001b[0m \u001b[0mcallable\u001b[0m\u001b[1;33m(\u001b[0m\u001b[0marg\u001b[0m\u001b[1;33m)\u001b[0m\u001b[1;33m:\u001b[0m\u001b[1;33m\u001b[0m\u001b[1;33m\u001b[0m\u001b[0m\n",
      "\u001b[1;32m~\\anaconda3\\envs\\dhdsblend\\lib\\site-packages\\IPython\\core\\magics\\execution.py\u001b[0m in \u001b[0;36mrun\u001b[1;34m(self, parameter_s, runner, file_finder)\u001b[0m\n\u001b[0;32m    712\u001b[0m             \u001b[1;32mif\u001b[0m \u001b[0mos\u001b[0m\u001b[1;33m.\u001b[0m\u001b[0mname\u001b[0m \u001b[1;33m==\u001b[0m \u001b[1;34m'nt'\u001b[0m \u001b[1;32mand\u001b[0m \u001b[0mre\u001b[0m\u001b[1;33m.\u001b[0m\u001b[0mmatch\u001b[0m\u001b[1;33m(\u001b[0m\u001b[1;34mr\"^'.*'$\"\u001b[0m\u001b[1;33m,\u001b[0m\u001b[0mfpath\u001b[0m\u001b[1;33m)\u001b[0m\u001b[1;33m:\u001b[0m\u001b[1;33m\u001b[0m\u001b[1;33m\u001b[0m\u001b[0m\n\u001b[0;32m    713\u001b[0m                 \u001b[0mwarn\u001b[0m\u001b[1;33m(\u001b[0m\u001b[1;34m'For Windows, use double quotes to wrap a filename: %run \"mypath\\\\myfile.py\"'\u001b[0m\u001b[1;33m)\u001b[0m\u001b[1;33m\u001b[0m\u001b[1;33m\u001b[0m\u001b[0m\n\u001b[1;32m--> 714\u001b[1;33m             \u001b[1;32mraise\u001b[0m \u001b[0mException\u001b[0m\u001b[1;33m(\u001b[0m\u001b[0mmsg\u001b[0m\u001b[1;33m)\u001b[0m\u001b[1;33m\u001b[0m\u001b[1;33m\u001b[0m\u001b[0m\n\u001b[0m\u001b[0;32m    715\u001b[0m         \u001b[1;32mexcept\u001b[0m \u001b[0mTypeError\u001b[0m\u001b[1;33m:\u001b[0m\u001b[1;33m\u001b[0m\u001b[1;33m\u001b[0m\u001b[0m\n\u001b[0;32m    716\u001b[0m             \u001b[1;32mif\u001b[0m \u001b[0mfpath\u001b[0m \u001b[1;32min\u001b[0m \u001b[0msys\u001b[0m\u001b[1;33m.\u001b[0m\u001b[0mmeta_path\u001b[0m\u001b[1;33m:\u001b[0m\u001b[1;33m\u001b[0m\u001b[1;33m\u001b[0m\u001b[0m\n",
      "\u001b[1;31mException\u001b[0m: File `'../../../common/0_notebooks_base_setup.py'` not found."
     ]
    }
   ],
   "source": [
    "# Setup Inicial DIGITAL HOUSE\n",
    "try:\n",
    "    # settings colab:\n",
    "    import google.colab\n",
    "\n",
    "    # para colab, cambiar el token de esta url\n",
    "    ! mkdir -p ../Data\n",
    "        \n",
    "except ModuleNotFoundError:    \n",
    "    # settings local:\n",
    "    %run \"../../../common/0_notebooks_base_setup.py\""
   ]
  },
  {
   "cell_type": "markdown",
   "metadata": {
    "id": "_5UZ0TjRmE9y"
   },
   "source": [
    "## **GRUPO 6.**\n",
    "\n",
    "\n",
    "**Pablo Marcelo Ferrero [pabloferrero1991@gmail.com]**\n",
    "\n",
    "**Bautista Alonso Marangone [bautialonsom@gmail.com]**\n",
    "\n",
    "**Mauro Montrasi [mauriciomontrasi@gmail.com]**\n",
    "\n",
    "**Gerardo Maximiliano Burgos [gerarburgos1987@gmail.com]**\n",
    "\n",
    "Prueba Pablo\n",
    "---"
   ]
  },
  {
   "cell_type": "markdown",
   "metadata": {
    "id": "3T1P5uWhmE9z"
   },
   "source": [
    "# **_Desafío 1. Limpieza de datos_**"
   ]
  },
  {
   "cell_type": "code",
   "execution_count": null,
   "metadata": {
    "id": "MtHNFgoZqOC7"
   },
   "outputs": [],
   "source": [
    "# Importamos Librerias de trabajo\n",
    "import numpy as np\n",
    "import pandas as pd\n",
    "import seaborn as sns                       #visualisation\n",
    "import matplotlib.pyplot as plt             #visualisation\n",
    "%matplotlib inline                          #visualisation\n",
    "import re "
   ]
  },
  {
   "cell_type": "code",
   "execution_count": null,
   "metadata": {
    "id": "ur68o0A5qOC9"
   },
   "outputs": [],
   "source": [
    "#Importamos la data en un Dataframe\n",
    "df = pd.read_csv('properati.csv')\n",
    "#df = pd.read_csv(\"../Data/properati.csv\", \",\") "
   ]
  },
  {
   "cell_type": "code",
   "execution_count": null,
   "metadata": {
    "id": "58s0P3lzmE91"
   },
   "outputs": [],
   "source": [
    "df.head(3)"
   ]
  },
  {
   "cell_type": "markdown",
   "metadata": {
    "id": "TZ-_gJjBqOC-"
   },
   "source": [
    "# *1. Análisis Exploratorio*\n",
    "Revisamos el contenido del Dataframe y sus columnas"
   ]
  },
  {
   "cell_type": "code",
   "execution_count": null,
   "metadata": {
    "id": "pDQvyCH4qOC_"
   },
   "outputs": [],
   "source": [
    "df.shape, df.dtypes"
   ]
  },
  {
   "cell_type": "code",
   "execution_count": null,
   "metadata": {
    "id": "O6KB41eivocr"
   },
   "outputs": [],
   "source": [
    "df.info()"
   ]
  },
  {
   "cell_type": "code",
   "execution_count": null,
   "metadata": {
    "id": "g8wBJhi2mE92"
   },
   "outputs": [],
   "source": [
    "df.describe()"
   ]
  },
  {
   "cell_type": "markdown",
   "metadata": {
    "id": "mcTdwjV2mE93"
   },
   "source": [
    "## *1.1 Nulls*"
   ]
  },
  {
   "cell_type": "markdown",
   "metadata": {
    "id": "4Ykt9wcuqODA"
   },
   "source": [
    "Consultamos la cantidad de valores nulos:"
   ]
  },
  {
   "cell_type": "code",
   "execution_count": null,
   "metadata": {
    "id": "Yrd_4_1dqODB"
   },
   "outputs": [],
   "source": [
    "df.isnull().sum()"
   ]
  },
  {
   "cell_type": "markdown",
   "metadata": {
    "id": "Rn4oeFnNmE94"
   },
   "source": [
    "Comparamos faltantes con totales"
   ]
  },
  {
   "cell_type": "code",
   "execution_count": null,
   "metadata": {
    "id": "VEMO4RGrqOC-"
   },
   "outputs": [],
   "source": [
    "cant_nulos_por_campo = df.apply(lambda x: x.isnull().sum(), axis=0)\n",
    "cant_registros = df.shape[0]\n",
    "porc_nulos_por_campo = 100 * cant_nulos_por_campo / cant_registros\n",
    "porc_nulos_por_campo.round(2)"
   ]
  },
  {
   "cell_type": "markdown",
   "metadata": {
    "id": "tXMFbfABqODC"
   },
   "source": [
    "\n",
    "## *1.2 Tipo de propiedad*\n",
    "Trabajamos sobre la columna_property_type_ para conocer el tipo de unidades presentes en las publicaciones"
   ]
  },
  {
   "cell_type": "code",
   "execution_count": null,
   "metadata": {
    "id": "ccnds6yjqODC"
   },
   "outputs": [],
   "source": [
    "# Contamos ocurrencias tipo de propiedad\n",
    "print(\"La columna Tipo de Propiedad tiene\",df.property_type.value_counts().size,\"categorias que son \\n\",df.property_type.value_counts(dropna=False), \"\\n y 0 registros Nan\")"
   ]
  },
  {
   "cell_type": "code",
   "execution_count": null,
   "metadata": {
    "id": "RC7EHKT29-jV"
   },
   "outputs": [],
   "source": [
    "#usamos matplot para ver rapidamente la distribucion de unidades\n",
    "plt.rcParams.update({'font.size': 15})\n",
    "df[\"property_type\"].value_counts().plot(kind='pie', figsize=(10,10),explode = (0.05, 0, 0, 0), autopct='%1.1f%%',shadow=True, startangle=90)"
   ]
  },
  {
   "cell_type": "markdown",
   "metadata": {
    "id": "3AyYs-UwaemT"
   },
   "source": [
    "## *1.3 Tipo de propiedad & Rooms*"
   ]
  },
  {
   "cell_type": "code",
   "execution_count": null,
   "metadata": {
    "id": "G2TlHoBhmE95"
   },
   "outputs": [],
   "source": [
    "# Rápidamente buscamos outliers valores de rooms por registro \n",
    "graf = sns.boxplot(x = df.rooms)"
   ]
  },
  {
   "cell_type": "code",
   "execution_count": null,
   "metadata": {
    "id": "fNPB6Jfw1hzo"
   },
   "outputs": [],
   "source": [
    "# Rooms, confirmamos\n",
    "df.rooms.sort_values(ascending = False).head(4)\n",
    "dfg6.rooms.describe() "
   ]
  },
  {
   "cell_type": "code",
   "execution_count": null,
   "metadata": {
    "id": "j2MGDQ7xmE96"
   },
   "outputs": [],
   "source": [
    "#Revisamos\n",
    "df.shape, dfg6.shape"
   ]
  },
  {
   "cell_type": "code",
   "execution_count": null,
   "metadata": {
    "id": "R35OqOO-mE96"
   },
   "outputs": [],
   "source": [
    "#Corroboramos rápidamente\n",
    "graf2 = sns.boxplot(x = dfg6.rooms)"
   ]
  },
  {
   "cell_type": "code",
   "execution_count": null,
   "metadata": {
    "id": "EUGO2XUNmE96"
   },
   "outputs": [],
   "source": [
    "dfg6.rooms.describe() "
   ]
  },
  {
   "cell_type": "markdown",
   "metadata": {
    "id": "emRrM4LFmE96"
   },
   "source": [
    "## *1.4 Distribución de propiedades por zona*"
   ]
  },
  {
   "cell_type": "code",
   "execution_count": null,
   "metadata": {
    "id": "ia0O7eFGmE96"
   },
   "outputs": [],
   "source": [
    "#Graficamos para tener una vista rapida\n",
    "df[\"state_name\"].value_counts().plot(kind='bar', figsize=(35,5), )"
   ]
  },
  {
   "cell_type": "code",
   "execution_count": null,
   "metadata": {
    "id": "edK717KuqODD"
   },
   "outputs": [],
   "source": [
    "#Vemos cantidad de propiedades por zona\n",
    "df_pxz= df.groupby(['state_name','property_type'])\n",
    "prop_zona= df_pxz.size().sort_values(ascending=False)\n",
    "prop_zona"
   ]
  },
  {
   "cell_type": "markdown",
   "metadata": {
    "id": "iZuCyrvAmE97"
   },
   "source": [
    "# *2. Limpieza de Datos*"
   ]
  },
  {
   "cell_type": "markdown",
   "metadata": {
    "id": "ziWIisQqaZFj"
   },
   "source": [
    "columna Floor"
   ]
  },
  {
   "cell_type": "code",
   "execution_count": null,
   "metadata": {
    "id": "D4ZFiFdzqODJ"
   },
   "outputs": [],
   "source": [
    "#Floor tiene datos confusos, mezcla cantidad de pisos con numero de piso dando lugar a interprentaciones erroneas.\n",
    "print(\"Floor tiene\",df['floor'].notnull().sum(), \"notnulls y valores int sample \\n\", df['floor'][df['floor'].notnull()].sample(8))"
   ]
  },
  {
   "cell_type": "markdown",
   "metadata": {
    "id": "oOD0dbw1ak-8"
   },
   "source": [
    "columna Country"
   ]
  },
  {
   "cell_type": "code",
   "execution_count": null,
   "metadata": {
    "id": "KbL3gfUYqODJ"
   },
   "outputs": [],
   "source": [
    "# son todos los registros \"Argentina\"\n",
    "country_mask = df.country_name == \"Argentina\"\n",
    "country_mask.value_counts()"
   ]
  },
  {
   "cell_type": "markdown",
   "metadata": {
    "id": "SqqOieNlavKD"
   },
   "source": [
    "columna Unnamed:0"
   ]
  },
  {
   "cell_type": "code",
   "execution_count": null,
   "metadata": {
    "id": "eRqnc3S01xw_"
   },
   "outputs": [],
   "source": [
    "#Unnamed: 0 No tiene info relevante, solo repite el index\n",
    "df[\"Unnamed: 0\"]"
   ]
  },
  {
   "cell_type": "markdown",
   "metadata": {
    "id": "HtYAjCZcaydD"
   },
   "source": [
    "columna Operation"
   ]
  },
  {
   "cell_type": "code",
   "execution_count": null,
   "metadata": {
    "id": "fCmu5y59qODM"
   },
   "outputs": [],
   "source": [
    "# Son todas operaciones sell\n",
    "opermask = df.operation !=\"sell\"\n",
    "opermask.value_counts()"
   ]
  },
  {
   "cell_type": "markdown",
   "metadata": {
    "id": "rapZUQN8a2W9"
   },
   "source": [
    "columna Expenses"
   ]
  },
  {
   "cell_type": "code",
   "execution_count": null,
   "metadata": {
    "id": "ZLWjixr9qODQ"
   },
   "outputs": [],
   "source": [
    "# Más del 85% son Nan\n",
    "df.expenses.isnull().sum()"
   ]
  },
  {
   "cell_type": "markdown",
   "metadata": {
    "id": "758znLrQa8Uj"
   },
   "source": [
    "columna url"
   ]
  },
  {
   "cell_type": "code",
   "execution_count": null,
   "metadata": {
    "id": "7w4FJ6q2qODQ"
   },
   "outputs": [],
   "source": [
    "# properati url - no es pertinente para este análisis\n",
    "df.properati_url.describe()"
   ]
  },
  {
   "cell_type": "markdown",
   "metadata": {
    "id": "huRKpt38a-O7"
   },
   "source": [
    "columna Image"
   ]
  },
  {
   "cell_type": "code",
   "execution_count": null,
   "metadata": {
    "id": "Pbs_K9Ds2XNr"
   },
   "outputs": [],
   "source": [
    "# Image Thumbail - no es pertinente para este momento análisis\n",
    "df.image_thumbnail.size, df.image_thumbnail.notnull().sum(), df.image_thumbnail.sample(3)"
   ]
  },
  {
   "cell_type": "markdown",
   "metadata": {
    "id": "Y1gVE0aQqODJ"
   },
   "source": [
    "## *2.1 Drop Columns*"
   ]
  },
  {
   "cell_type": "markdown",
   "metadata": {
    "id": "60zm2OhVmE9_"
   },
   "source": [
    "### *dfg6 será nuestra primer isntancia de dataframe a editar*"
   ]
  },
  {
   "cell_type": "code",
   "execution_count": null,
   "metadata": {
    "id": "YWfvyXskqODO"
   },
   "outputs": [],
   "source": [
    "#Drop Columns\n",
    "dfg6 = df.drop(['floor', 'country_name', 'Unnamed: 0', 'operation','expenses', 'properati_url', 'image_thumbnail'], axis=1)\n",
    "dfg6.shape"
   ]
  },
  {
   "cell_type": "code",
   "execution_count": null,
   "metadata": {
    "id": "-AkuFRj2mE-A"
   },
   "outputs": [],
   "source": [
    "#REVISAMOS CANTIDAD REGISTROS X COL\n",
    "dfg6.count()"
   ]
  },
  {
   "cell_type": "markdown",
   "metadata": {
    "id": "13-YTAODmE-A"
   },
   "source": [
    "## *2.2 Friendly Columns*"
   ]
  },
  {
   "cell_type": "code",
   "execution_count": null,
   "metadata": {
    "id": "01EoMTqjmE-A"
   },
   "outputs": [],
   "source": [
    "#REVISO LOS VALORES\n",
    "list(dfg6.columns.values)\n",
    "#REORDENO LAS COLUMNAS\n",
    "dfg6 = dfg6[['title', 'description','property_type','rooms','surface_total_in_m2','surface_covered_in_m2', 'place_name','place_with_parent_names',\n",
    "'state_name','geonames_id','lat-lon','lat','lon','price','currency','price_aprox_local_currency','price_aprox_usd','price_usd_per_m2', 'price_per_m2']]\n",
    "#LOOK\n",
    "dfg6.sample(3)"
   ]
  },
  {
   "cell_type": "markdown",
   "metadata": {
    "id": "6HPvlm6EqODQ"
   },
   "source": [
    "# *3. Ubicación*\n",
    "Siguiendo hipotesis revisamos el top ten de localidades con publicaciones"
   ]
  },
  {
   "cell_type": "code",
   "execution_count": null,
   "metadata": {
    "id": "B7uOrCq2mE-B"
   },
   "outputs": [],
   "source": [
    "#top ten de regiones con publicacioens\n",
    "state_grouped = df.groupby('state_name')\n",
    "blout = state_grouped[\"state_name\"].size().sort_values(ascending=False)[0:8] \n",
    "blout"
   ]
  },
  {
   "cell_type": "code",
   "execution_count": null,
   "metadata": {
    "id": "krwhcsU2mE-C"
   },
   "outputs": [],
   "source": []
  },
  {
   "cell_type": "markdown",
   "metadata": {
    "id": "cAIDpPDRmE-C"
   },
   "source": [
    "# *3.1 LOCATION*"
   ]
  },
  {
   "cell_type": "markdown",
   "metadata": {
    "id": "WKHO8_5I_GFm"
   },
   "source": [
    "Decido dividir la información en dataframes mas pequeños con mayor información relevante. \n",
    "'capitalFederal', 'GBA' y uno unificado 'Properati'."
   ]
  },
  {
   "cell_type": "code",
   "execution_count": null,
   "metadata": {
    "id": "1SuOBpYV_GFn"
   },
   "outputs": [],
   "source": [
    "capitalFederal = df.loc[df.state_name.str.contains(\"Capital Federal\", na=False),:]\n",
    "GBA =df.loc[df.state_name.str.contains(\"G.B.A\", na=False),:]\n",
    "properati = pd.concat([capitalFederal,GBA])"
   ]
  },
  {
   "cell_type": "markdown",
   "metadata": {
    "id": "V65baYFa_GFn"
   },
   "source": [
    "Tiro un primer mapeo general, para ver la distibucion de mis datos en un mapa"
   ]
  },
  {
   "cell_type": "code",
   "execution_count": null,
   "metadata": {
    "id": "7Q9DzygK_GFn"
   },
   "outputs": [],
   "source": [
    "import plotly.express as px\n",
    "import plotly.io as pio\n",
    "import plotly.offline as pyo\n",
    "\n",
    "pyo.init_notebook_mode()"
   ]
  },
  {
   "cell_type": "code",
   "execution_count": null,
   "metadata": {
    "id": "bErwabhD_GFo"
   },
   "outputs": [],
   "source": [
    "gps_df= properati_xy"
   ]
  },
  {
   "cell_type": "code",
   "execution_count": null,
   "metadata": {
    "id": "oHqJbun0_GFo"
   },
   "outputs": [],
   "source": [
    "api_token = input(\"Enter API from Mapbox\")"
   ]
  },
  {
   "cell_type": "code",
   "execution_count": null,
   "metadata": {
    "id": "-vxl0s-x_GFo"
   },
   "outputs": [],
   "source": [
    "fig = px.scatter_mapbox(gps_df, lat=\"lat\", lon=\"lon\",\n",
    "                  color_continuous_scale=[\"black\", \"purple\", \"red\" ], size_max=30, zoom=12.5,\n",
    "                  height = 800, width = 1000, #center = dict(lat = g.center)\n",
    "                        title='Properati Dataframe',\n",
    "                       #mapbox_style=\"open-street-map\"\n",
    "                       )\n",
    "fig.update_layout(font_size=16,  title={'xanchor': 'center','yanchor': 'top', 'y':0.9, 'x':0.5,}, \n",
    "        title_font_size = 24, mapbox_accesstoken=api_token, mapbox_style = \"mapbox://styles/strym/ckhd00st61aum19noz9h8y8kw\")\n",
    "fig.update_traces(marker=dict(size=6))"
   ]
  },
  {
   "cell_type": "code",
   "execution_count": null,
   "metadata": {
    "id": "gTcKd-vI_GFo"
   },
   "outputs": [],
   "source": [
    "Ahora, especifico un poco más la información y busco relacion entre mis datos mas refinados"
   ]
  },
  {
   "cell_type": "code",
   "execution_count": null,
   "metadata": {
    "id": "JUTPLd3z_GFo"
   },
   "outputs": [],
   "source": [
    "\n",
    "lat_max = properati.loc[df.lat> -35 ,:]\n",
    "lat_min = lat_max.loc[lat_max.lat < -34.2]\n",
    "\n",
    "properati_xy = lat_min.loc[lat_min.lon > -60,:]\n",
    "size= (25,15)\n",
    "plt.rcParams[\"figure.figsize\"] = size\n",
    "properati_xy.plot.hexbin(x='lon', y='lat', C='price_usd_per_m2', reduce_C_function=np.std, gridsize=1000, cmap='winter', fontsize=10)\n",
    "plt.title('Distribución geografica de valor del m2 en AMBA',fontsize=25)\n",
    "plt.ylabel('Latitud', fontsize=25)\n",
    "plt.show();"
   ]
  },
  {
   "cell_type": "code",
   "execution_count": null,
   "metadata": {
    "id": "KaRzqgoD_GFp"
   },
   "outputs": [],
   "source": []
  },
  {
   "cell_type": "markdown",
   "metadata": {
    "id": "e6xbN31emE-C"
   },
   "source": [
    "## *3.2 Place_Name*"
   ]
  },
  {
   "cell_type": "markdown",
   "metadata": {
    "id": "Eh-N5OB_mE-C"
   },
   "source": [
    "*place_name contiene datos confusos, con valores mezclados no siempre pertinetes*"
   ]
  },
  {
   "cell_type": "code",
   "execution_count": null,
   "metadata": {
    "id": "3xm0fOeQqODR",
    "outputId": "7531bc8b-2502-4e3a-b0cc-d9ba30d18d89"
   },
   "outputs": [
    {
     "data": {
      "text/plain": [
       "(23,\n",
       " Córdoba                                9254\n",
       " Rosario                                8504\n",
       " Mar del Plata                          6534\n",
       " Tigre                                  3324\n",
       " Nordelta                               3315\n",
       "                                        ... \n",
       " Tilisarao                                 1\n",
       " Barrio Melazzi                            1\n",
       " Tancacha                                  1\n",
       " Barrio Cerrado \"El Casco de Moreno\"       1\n",
       " Toledo                                    1\n",
       " Name: place_name, Length: 1060, dtype: int64)"
      ]
     },
     "execution_count": 78,
     "metadata": {
      "tags": []
     },
     "output_type": "execute_result"
    }
   ],
   "source": [
    "#reviso los faltantes de columna place_name =23\n",
    "dfg6.place_name.isnull().sum(), dfg6.place_name.value_counts()"
   ]
  },
  {
   "cell_type": "markdown",
   "metadata": {
    "id": "B_PUlGuvmE-D"
   },
   "source": [
    "## *3.3 Parents_Names*"
   ]
  },
  {
   "cell_type": "markdown",
   "metadata": {
    "id": "IIGDSzT6qODT"
   },
   "source": [
    "*Segmentamos la columna place_with_parent_names para trabajar la data de las unidades en virtud de su ubicación, para eso, en primer lugar elegimos las variable relaciondas para tener un panorama de los datos presentes.*\n"
   ]
  },
  {
   "cell_type": "code",
   "execution_count": null,
   "metadata": {
    "id": "h-d7SImwqODU",
    "outputId": "9cb473e4-d3d8-4f61-c947-9244770e3c07"
   },
   "outputs": [
    {
     "data": {
      "text/html": [
       "<div>\n",
       "<style scoped>\n",
       "    .dataframe tbody tr th:only-of-type {\n",
       "        vertical-align: middle;\n",
       "    }\n",
       "\n",
       "    .dataframe tbody tr th {\n",
       "        vertical-align: top;\n",
       "    }\n",
       "\n",
       "    .dataframe thead th {\n",
       "        text-align: right;\n",
       "    }\n",
       "</style>\n",
       "<table border=\"1\" class=\"dataframe\">\n",
       "  <thead>\n",
       "    <tr style=\"text-align: right;\">\n",
       "      <th></th>\n",
       "      <th>0</th>\n",
       "      <th>1</th>\n",
       "      <th>2</th>\n",
       "      <th>3</th>\n",
       "      <th>4</th>\n",
       "      <th>5</th>\n",
       "      <th>6</th>\n",
       "    </tr>\n",
       "  </thead>\n",
       "  <tbody>\n",
       "    <tr>\n",
       "      <th>0</th>\n",
       "      <td></td>\n",
       "      <td>Argentina</td>\n",
       "      <td>Capital Federal</td>\n",
       "      <td>Mataderos</td>\n",
       "      <td></td>\n",
       "      <td>None</td>\n",
       "      <td>None</td>\n",
       "    </tr>\n",
       "    <tr>\n",
       "      <th>1</th>\n",
       "      <td></td>\n",
       "      <td>Argentina</td>\n",
       "      <td>Bs.As. G.B.A. Zona Sur</td>\n",
       "      <td>La Plata</td>\n",
       "      <td></td>\n",
       "      <td>None</td>\n",
       "      <td>None</td>\n",
       "    </tr>\n",
       "    <tr>\n",
       "      <th>2</th>\n",
       "      <td></td>\n",
       "      <td>Argentina</td>\n",
       "      <td>Capital Federal</td>\n",
       "      <td>Mataderos</td>\n",
       "      <td></td>\n",
       "      <td>None</td>\n",
       "      <td>None</td>\n",
       "    </tr>\n",
       "    <tr>\n",
       "      <th>3</th>\n",
       "      <td></td>\n",
       "      <td>Argentina</td>\n",
       "      <td>Capital Federal</td>\n",
       "      <td>Liniers</td>\n",
       "      <td></td>\n",
       "      <td>None</td>\n",
       "      <td>None</td>\n",
       "    </tr>\n",
       "  </tbody>\n",
       "</table>\n",
       "</div>"
      ],
      "text/plain": [
       "  0          1                       2          3 4     5     6\n",
       "0    Argentina         Capital Federal  Mataderos    None  None\n",
       "1    Argentina  Bs.As. G.B.A. Zona Sur   La Plata    None  None\n",
       "2    Argentina         Capital Federal  Mataderos    None  None\n",
       "3    Argentina         Capital Federal    Liniers    None  None"
      ]
     },
     "execution_count": 79,
     "metadata": {
      "tags": []
     },
     "output_type": "execute_result"
    }
   ],
   "source": [
    "#Separo el contenido la variable \n",
    "location_xtrac = df.place_with_parent_names.str.split(\"|\", expand=True)\n",
    "location_xtrac.head(4)"
   ]
  },
  {
   "cell_type": "markdown",
   "metadata": {
    "id": "D8Omqz8ymE-D"
   },
   "source": [
    "## *3.4 New Column BARRIO*"
   ]
  },
  {
   "cell_type": "code",
   "execution_count": null,
   "metadata": {
    "id": "0d-AnDMOmE-E",
    "outputId": "23e8fe48-f07a-40ff-b331-dc5443042ebe"
   },
   "outputs": [
    {
     "ename": "ValueError",
     "evalue": "cannot insert barrio, already exists",
     "output_type": "error",
     "traceback": [
      "\u001b[1;31m---------------------------------------------------------------------------\u001b[0m",
      "\u001b[1;31mValueError\u001b[0m                                Traceback (most recent call last)",
      "\u001b[1;32m<ipython-input-80-e9a6b8bd02cb>\u001b[0m in \u001b[0;36m<module>\u001b[1;34m\u001b[0m\n\u001b[0;32m      1\u001b[0m \u001b[1;31m# Insertamos en ubicación nueva columana Barrio que captura data de place.\u001b[0m\u001b[1;33m\u001b[0m\u001b[1;33m\u001b[0m\u001b[1;33m\u001b[0m\u001b[0m\n\u001b[1;32m----> 2\u001b[1;33m \u001b[0mdfg6\u001b[0m\u001b[1;33m.\u001b[0m\u001b[0minsert\u001b[0m\u001b[1;33m(\u001b[0m\u001b[1;36m9\u001b[0m\u001b[1;33m,\u001b[0m\u001b[1;34m\"barrio\"\u001b[0m\u001b[1;33m,\u001b[0m \u001b[0mlocation_xtrac\u001b[0m\u001b[1;33m[\u001b[0m\u001b[1;36m4\u001b[0m\u001b[1;33m]\u001b[0m\u001b[1;33m)\u001b[0m\u001b[1;33m\u001b[0m\u001b[1;33m\u001b[0m\u001b[0m\n\u001b[0m",
      "\u001b[1;32m~\\anaconda3\\envs\\dhdsblend\\lib\\site-packages\\pandas\\core\\frame.py\u001b[0m in \u001b[0;36minsert\u001b[1;34m(self, loc, column, value, allow_duplicates)\u001b[0m\n\u001b[0;32m   3494\u001b[0m         \u001b[0mself\u001b[0m\u001b[1;33m.\u001b[0m\u001b[0m_ensure_valid_index\u001b[0m\u001b[1;33m(\u001b[0m\u001b[0mvalue\u001b[0m\u001b[1;33m)\u001b[0m\u001b[1;33m\u001b[0m\u001b[1;33m\u001b[0m\u001b[0m\n\u001b[0;32m   3495\u001b[0m         \u001b[0mvalue\u001b[0m \u001b[1;33m=\u001b[0m \u001b[0mself\u001b[0m\u001b[1;33m.\u001b[0m\u001b[0m_sanitize_column\u001b[0m\u001b[1;33m(\u001b[0m\u001b[0mcolumn\u001b[0m\u001b[1;33m,\u001b[0m \u001b[0mvalue\u001b[0m\u001b[1;33m,\u001b[0m \u001b[0mbroadcast\u001b[0m\u001b[1;33m=\u001b[0m\u001b[1;32mFalse\u001b[0m\u001b[1;33m)\u001b[0m\u001b[1;33m\u001b[0m\u001b[1;33m\u001b[0m\u001b[0m\n\u001b[1;32m-> 3496\u001b[1;33m         \u001b[0mself\u001b[0m\u001b[1;33m.\u001b[0m\u001b[0m_data\u001b[0m\u001b[1;33m.\u001b[0m\u001b[0minsert\u001b[0m\u001b[1;33m(\u001b[0m\u001b[0mloc\u001b[0m\u001b[1;33m,\u001b[0m \u001b[0mcolumn\u001b[0m\u001b[1;33m,\u001b[0m \u001b[0mvalue\u001b[0m\u001b[1;33m,\u001b[0m \u001b[0mallow_duplicates\u001b[0m\u001b[1;33m=\u001b[0m\u001b[0mallow_duplicates\u001b[0m\u001b[1;33m)\u001b[0m\u001b[1;33m\u001b[0m\u001b[1;33m\u001b[0m\u001b[0m\n\u001b[0m\u001b[0;32m   3497\u001b[0m \u001b[1;33m\u001b[0m\u001b[0m\n\u001b[0;32m   3498\u001b[0m     \u001b[1;32mdef\u001b[0m \u001b[0massign\u001b[0m\u001b[1;33m(\u001b[0m\u001b[0mself\u001b[0m\u001b[1;33m,\u001b[0m \u001b[1;33m**\u001b[0m\u001b[0mkwargs\u001b[0m\u001b[1;33m)\u001b[0m \u001b[1;33m->\u001b[0m \u001b[1;34m\"DataFrame\"\u001b[0m\u001b[1;33m:\u001b[0m\u001b[1;33m\u001b[0m\u001b[1;33m\u001b[0m\u001b[0m\n",
      "\u001b[1;32m~\\anaconda3\\envs\\dhdsblend\\lib\\site-packages\\pandas\\core\\internals\\managers.py\u001b[0m in \u001b[0;36minsert\u001b[1;34m(self, loc, item, value, allow_duplicates)\u001b[0m\n\u001b[0;32m   1171\u001b[0m         \u001b[1;32mif\u001b[0m \u001b[1;32mnot\u001b[0m \u001b[0mallow_duplicates\u001b[0m \u001b[1;32mand\u001b[0m \u001b[0mitem\u001b[0m \u001b[1;32min\u001b[0m \u001b[0mself\u001b[0m\u001b[1;33m.\u001b[0m\u001b[0mitems\u001b[0m\u001b[1;33m:\u001b[0m\u001b[1;33m\u001b[0m\u001b[1;33m\u001b[0m\u001b[0m\n\u001b[0;32m   1172\u001b[0m             \u001b[1;31m# Should this be a different kind of error??\u001b[0m\u001b[1;33m\u001b[0m\u001b[1;33m\u001b[0m\u001b[1;33m\u001b[0m\u001b[0m\n\u001b[1;32m-> 1173\u001b[1;33m             \u001b[1;32mraise\u001b[0m \u001b[0mValueError\u001b[0m\u001b[1;33m(\u001b[0m\u001b[1;34mf\"cannot insert {item}, already exists\"\u001b[0m\u001b[1;33m)\u001b[0m\u001b[1;33m\u001b[0m\u001b[1;33m\u001b[0m\u001b[0m\n\u001b[0m\u001b[0;32m   1174\u001b[0m \u001b[1;33m\u001b[0m\u001b[0m\n\u001b[0;32m   1175\u001b[0m         \u001b[1;32mif\u001b[0m \u001b[1;32mnot\u001b[0m \u001b[0misinstance\u001b[0m\u001b[1;33m(\u001b[0m\u001b[0mloc\u001b[0m\u001b[1;33m,\u001b[0m \u001b[0mint\u001b[0m\u001b[1;33m)\u001b[0m\u001b[1;33m:\u001b[0m\u001b[1;33m\u001b[0m\u001b[1;33m\u001b[0m\u001b[0m\n",
      "\u001b[1;31mValueError\u001b[0m: cannot insert barrio, already exists"
     ]
    }
   ],
   "source": [
    "# Insertamos en ubicación nueva columana Barrio que captura data de place.\n",
    "dfg6.insert(9,\"barrio\", location_xtrac[4])\n"
   ]
  },
  {
   "cell_type": "markdown",
   "metadata": {
    "id": "BPHzv1ytmE-E"
   },
   "source": [
    "## *3.5 Importo cvs del GCBA con los nombres de los barrios*"
   ]
  },
  {
   "cell_type": "markdown",
   "metadata": {
    "id": "C_3fp0sCmE-E"
   },
   "source": [
    "Vamos a crear una lista de barrios para extraer los datos de la columana place_name"
   ]
  },
  {
   "cell_type": "code",
   "execution_count": null,
   "metadata": {
    "id": "M5wL8dAOqODU"
   },
   "outputs": [],
   "source": [
    "#importo la lista de barrios de caba para nuestra segmentacion\n",
    "barrios = pd.read_csv(\"../Data/barrios.csv\", \",\")\n",
    "maskba = barrios[\"barrio\"]"
   ]
  },
  {
   "cell_type": "markdown",
   "metadata": {
    "id": "rDR-FJOKmE-F"
   },
   "source": [
    "Rellenamos place_name faltantes con datos de place_with_parent_name para completar ubicacion"
   ]
  },
  {
   "cell_type": "markdown",
   "metadata": {
    "id": "5JJ_mzLGqODF"
   },
   "source": [
    "# *4. Superficie*"
   ]
  },
  {
   "cell_type": "markdown",
   "metadata": {
    "id": "NfFNhOtImE-F"
   },
   "source": [
    "trabajaremos en relación a la dimension, ya que puede tratarse de un destino comercial y no nos interese.¿Interesan > a 1500 m2?"
   ]
  },
  {
   "cell_type": "code",
   "execution_count": null,
   "metadata": {
    "id": "WcOSflPxqODG"
   },
   "outputs": [],
   "source": [
    "dfg6.surface_total_in_m2.describe()"
   ]
  },
  {
   "cell_type": "code",
   "execution_count": null,
   "metadata": {
    "id": "qYDozj9VqODH"
   },
   "outputs": [],
   "source": [
    "dfsurface = dfg6[[\"property_type\", \"surface_total_in_m2\", \"surface_covered_in_m2\", \"rooms\"]].sort_values(by=\"surface_total_in_m2\", ascending=False)\n",
    "dfsurface.head(3)"
   ]
  },
  {
   "cell_type": "code",
   "execution_count": null,
   "metadata": {
    "id": "CjdvLKRBqODI"
   },
   "outputs": [],
   "source": [
    "#quiero ver cuales son mayores\n",
    "mas_de_mil_metros = dfg6.loc[(dfg6['surface_total_in_m2']>=1500) & (dfg6['surface_covered_in_m2']>=1000),[\"property_type\", \"surface_total_in_m2\", \"surface_covered_in_m2\",  \"rooms\"]]\n",
    "mas_de_mil_metros.sort_values(by=\"surface_total_in_m2\", ascending=False).head(5)"
   ]
  },
  {
   "cell_type": "markdown",
   "metadata": {
    "id": "8pHxzcFyqODI"
   },
   "source": [
    "Me quedo con las menores a 1500 mts y comparo datos para ver su relevancia."
   ]
  },
  {
   "cell_type": "code",
   "execution_count": null,
   "metadata": {
    "id": "SrMZLHW4qODI"
   },
   "outputs": [],
   "source": [
    "#me quedo con las menores\n",
    "dfsurface = dfg6.loc[(dfg6['surface_total_in_m2']<=1500) & (dfg6['surface_covered_in_m2']<=1000),[\"property_type\", \"surface_total_in_m2\", \"surface_covered_in_m2\", \"rooms\"]]\n",
    "#dfsurface.sort_values( 'surface_total_in_m2', ascending=False).head(5)\n",
    "dfsurface.surface_total_in_m2.describe()"
   ]
  },
  {
   "cell_type": "markdown",
   "metadata": {
    "id": "ToqPatC1mE-F"
   },
   "source": [
    "**Drop Registros mayores a 1500mts**"
   ]
  },
  {
   "cell_type": "markdown",
   "metadata": {
    "id": "LqvhKwYsmE-F"
   },
   "source": [
    "# *5. Price*"
   ]
  },
  {
   "cell_type": "code",
   "execution_count": null,
   "metadata": {
    "id": "G0GdQPepqODX"
   },
   "outputs": [],
   "source": [
    "#comprobamos paridad de variables\n",
    "dfg6.price_aprox_usd.dtype, dfg6.price.dtype"
   ]
  },
  {
   "cell_type": "code",
   "execution_count": null,
   "metadata": {
    "id": "AHS-SRmfmE-G"
   },
   "outputs": [],
   "source": [
    "#Buscamos Max y Min\n",
    "hab = pd.cut(dfg6.rooms, [0, 4, 8])\n",
    "dfg6.pivot_table(\"price\", ['property_type', hab], aggfunc= {min, max} )"
   ]
  },
  {
   "cell_type": "code",
   "execution_count": null,
   "metadata": {
    "id": "0UR5fvIWImCQ"
   },
   "outputs": [],
   "source": [
    "#visualizamos para ver dispersion\n",
    "sns.boxplot(x=dfg6['price_usd_per_m2'])"
   ]
  },
  {
   "cell_type": "code",
   "execution_count": null,
   "metadata": {
    "id": "YOqEs9ckmE-G"
   },
   "outputs": [],
   "source": [
    "# Visualizamos panorma de la relación zona, tipo, precio superficie\n",
    "hab1 = pd.cut(dfg6.rooms, [0, 4, 8, 30])\n",
    "clus = dfg6.pivot_table(['surface_total_in_m2', \"price\"], [\"state_name\",'property_type', hab1],aggfunc={'surface_total_in_m2': np.mean,\n",
    "'price': [min, max]}, fill_value=0)\n",
    "clus"
   ]
  },
  {
   "cell_type": "markdown",
   "metadata": {
    "id": "1JtYUYbVmE-H"
   },
   "source": [
    "# *PRECIO*"
   ]
  },
  {
   "cell_type": "code",
   "execution_count": null,
   "metadata": {
    "id": "d6g13DI6_GFy"
   },
   "outputs": [],
   "source": [
    "properati[['price_aprox_usd']].describe()"
   ]
  },
  {
   "cell_type": "markdown",
   "metadata": {
    "id": "kYoCs-KQ_GFy"
   },
   "source": [
    "Sobre este último trabajo sobre la variable de precios mas fiel. price_usd_per_M2. Separo en quantiles y separo  >.02 y <.95"
   ]
  },
  {
   "cell_type": "code",
   "execution_count": null,
   "metadata": {
    "id": "CoUbdaaV_GFy"
   },
   "outputs": [],
   "source": [
    "properati_filtered = properati[(properati.price_usd_per_m2 < properati.price_usd_per_m2.quantile(.95)) & (properati.price_usd_per_m2 > properati.price_usd_per_m2.quantile(.02))]\n",
    "properati_filtered.head(1)"
   ]
  },
  {
   "cell_type": "code",
   "execution_count": null,
   "metadata": {
    "id": "UKQNLC5j_GFy"
   },
   "outputs": [],
   "source": [
    "sns.set(style=\"white\", palette=\"muted\", color_codes=True)\n",
    "rs = np.random.RandomState(10)\n",
    "\n",
    "# Set up the matplotlib figure\n",
    "f, axes = plt.subplots(1, 2, figsize=(18, 10))\n",
    "sns.despine(left=True)\n",
    "\n",
    "\n",
    "g1=sns.distplot(properati[['price_usd_per_m2']],ax=axes[0], color=\"red\")\n",
    "g1.axes.set_title('Precios de propiedades extremos', fontsize=24, fontweight=1000)\n",
    "\n",
    "g2 = sns.distplot(properati_filtered[['price_usd_per_m2']], color=\"green\",ax=axes[1])\n",
    "g2.axes.set_title('Precios de propiedades grueso', fontsize=24,  color=\"black\", fontweight=1000)\n",
    "\n",
    "plt.setp(axes, yticks=[])\n",
    "plt.tight_layout()\n",
    "plt.show()\n"
   ]
  },
  {
   "cell_type": "markdown",
   "metadata": {
    "id": "MZ66AcTf_GFz"
   },
   "source": [
    "Fig.1 muestra precio por m2, sin filtrar arrojando una distribución con muchos casos en 0. A raiz de esto se decidió eliminar los valores nulos. \n",
    "Así se puede ver, Fig 2. una distribución, eliminando los cuantiles 0-2 y 95-100, permitiendo visualizar el grueso de los casos"
   ]
  },
  {
   "cell_type": "markdown",
   "metadata": {
    "id": "w2rBfSbrmE-H"
   },
   "source": [
    "# *6. Combinatoria*"
   ]
  },
  {
   "cell_type": "markdown",
   "metadata": {
    "id": "viar2mcBqODU"
   },
   "source": [
    "## _6.1 Descripción_\n",
    "Revisamos la composición de datos de la columna. Utilizamos expresiones para extraer data relevante. "
   ]
  },
  {
   "cell_type": "code",
   "execution_count": null,
   "metadata": {
    "id": "2jKY1MSxqODU"
   },
   "outputs": [],
   "source": [
    "dfg6.description.describe()"
   ]
  },
  {
   "cell_type": "markdown",
   "metadata": {
    "id": "OIwzW64cqODV"
   },
   "source": [
    "Abrimos la descripcion para identificar amenities que influyan directamente en el valor del m2"
   ]
  },
  {
   "cell_type": "code",
   "execution_count": null,
   "metadata": {
    "id": "1Cb4RjaaqODV"
   },
   "outputs": [],
   "source": [
    "patron = \"pileta\" #ampliar expresion\n",
    "patroncomp = re.compile(patron)\n",
    "pileta = df.description.apply(lambda x : x if x is np.NaN else patroncomp.search(x))\n",
    "pileta_notnull= pileta.notnull()\n",
    "pileta_notnull.sum()\n"
   ]
  },
  {
   "cell_type": "markdown",
   "metadata": {
    "id": "GKRRm5uUqODW"
   },
   "source": [
    "Consultamos si existen registros duplicados, ya que podríamos agrupar por barrios cerrados o complejos"
   ]
  },
  {
   "cell_type": "code",
   "execution_count": null,
   "metadata": {
    "id": "woRTZH79qODW"
   },
   "outputs": [],
   "source": [
    "maskdup1 = df.description.duplicated(keep = False)\n",
    "dfg6.description[maskdup1].head(6)"
   ]
  },
  {
   "cell_type": "markdown",
   "metadata": {
    "id": "00nkVJg_mE-I"
   },
   "source": [
    "## *6.2 Ambientes: Rooms & Tittle*\n",
    "Trabajamos sobre la variable “rooms”\n"
   ]
  },
  {
   "cell_type": "code",
   "execution_count": null,
   "metadata": {
    "id": "UFTlzNkn_GF2"
   },
   "outputs": [],
   "source": [
    "capitalFederal_filtro= capitalFederal.property_type.value_counts().size\n",
    "capitalFederal_filtro=capitalFederal.property_type.value_counts(dropna=False)"
   ]
  },
  {
   "cell_type": "code",
   "execution_count": null,
   "metadata": {
    "id": "H26ui-IO_GF2"
   },
   "outputs": [],
   "source": [
    "capitalFederal_filtro.plot.barh(color='green', fontsize=15);\n",
    "plt.title('Cantidad de propiedades en venta en Capital Federal', fontsize=20);\n",
    "plt.xlabel('Cantidad', fontsize=17);\n",
    "plt.ylabel('Tipo de propiedad', fontsize=17);\n",
    "plt.show()"
   ]
  },
  {
   "cell_type": "code",
   "execution_count": null,
   "metadata": {
    "id": "qsZKMXZG_GF2"
   },
   "outputs": [],
   "source": [
    "gba_filtro=GBA.property_type.value_counts().size\n",
    "gba_filtro=GBA.property_type.value_counts(dropna=False)"
   ]
  },
  {
   "cell_type": "code",
   "execution_count": null,
   "metadata": {
    "id": "hyT5-S3v_GF3"
   },
   "outputs": [],
   "source": [
    "gba_filtro.plot.barh(color='blue', fontsize=15);\n",
    "plt.title('Cantidad de propiedades en venta en Gran Buenos Aires', fontsize=20);\n",
    "plt.xlabel('Cantidad', fontsize=17);\n",
    "plt.ylabel('Tipo de propiedad', fontsize=17);\n",
    "plt.show()"
   ]
  },
  {
   "cell_type": "code",
   "execution_count": null,
   "metadata": {
    "id": "or_MmOnj_GF3"
   },
   "outputs": [],
   "source": [
    "properati_room = properati_filtered.loc[properati_filtered.rooms < 8,['rooms','price_usd_per_m2']]\n",
    "grouped_rooms = properati_room.groupby('rooms').size().plot(kind='pie', figsize=(5,5),cmap='Accent',fontsize=11)\n",
    "plt.title('Cantidad de cuartos en Capital Federal y GBA', fontsize = 18)\n",
    "plt.ylabel('')\n",
    "plt.show();"
   ]
  },
  {
   "cell_type": "code",
   "execution_count": null,
   "metadata": {
    "id": "wUt0Kyhi_GF3"
   },
   "outputs": [],
   "source": [
    "properati_room.groupby('rooms').mean()['price_usd_per_m2'].plot(figsize=(14,4),fontsize=11);\n",
    "plt.title('Precio en USD/m2 en relacion a la cantidad de cuartos que posee la propiedad', fontsize= 20);\n",
    "plt.xlabel('Cuartos', fontsize = 14);\n",
    "plt.ylabel('Precio USD/m2', fontsize=14);\n",
    "plt.show();"
   ]
  },
  {
   "cell_type": "code",
   "execution_count": null,
   "metadata": {
    "id": "5b8QfEej_GF3"
   },
   "outputs": [],
   "source": []
  },
  {
   "cell_type": "code",
   "execution_count": null,
   "metadata": {
    "id": "zt2vFFgX_GF3"
   },
   "outputs": [],
   "source": []
  },
  {
   "cell_type": "markdown",
   "metadata": {
    "id": "cyfuvgFHqODE"
   },
   "source": [
    "# *7. Optimizacion*"
   ]
  },
  {
   "cell_type": "markdown",
   "metadata": {
    "id": "khypSICSmE-J"
   },
   "source": [
    "Buscamos filas duplicadas"
   ]
  },
  {
   "cell_type": "code",
   "execution_count": null,
   "metadata": {
    "id": "KHvyrIK__DzZ"
   },
   "outputs": [],
   "source": [
    "#No encontramos filas duplicadas\n",
    "df_duplicates = df.drop_duplicates()\n",
    "df.shape, df_duplicates.shape"
   ]
  },
  {
   "cell_type": "markdown",
   "metadata": {
    "id": "v2G-ryoep6BI"
   },
   "source": [
    "# *8. Guardo mi dataset*"
   ]
  },
  {
   "cell_type": "code",
   "execution_count": null,
   "metadata": {
    "id": "7Qih8ve2p8fR"
   },
   "outputs": [],
   "source": [
    "df.to_csv('g6_limpio_final.csv', index=False)"
   ]
  },
  {
   "cell_type": "code",
   "execution_count": null,
   "metadata": {
    "id": "vast-dNkp6ho"
   },
   "outputs": [],
   "source": []
  }
 ],
 "metadata": {
  "colab": {
   "collapsed_sections": [
    "Y1gVE0aQqODJ",
    "6HPvlm6EqODQ",
    "viar2mcBqODU",
    "cyfuvgFHqODE"
   ],
   "name": "Desafio.Properati_G6.ipynb",
   "provenance": []
  },
  "kernelspec": {
   "display_name": "Python 3",
   "language": "python",
   "name": "python3"
  },
  "language_info": {
   "codemirror_mode": {
    "name": "ipython",
    "version": 3
   },
   "file_extension": ".py",
   "mimetype": "text/x-python",
   "name": "python",
   "nbconvert_exporter": "python",
   "pygments_lexer": "ipython3",
   "version": "3.7.9"
  }
 },
 "nbformat": 4,
 "nbformat_minor": 4
}
